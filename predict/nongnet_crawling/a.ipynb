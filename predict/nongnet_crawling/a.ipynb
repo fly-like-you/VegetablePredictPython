{
 "cells": [
  {
   "cell_type": "code",
   "execution_count": 144,
   "metadata": {
    "collapsed": true
   },
   "outputs": [],
   "source": [
    "import glob\n",
    "import os\n",
    "import numpy as np\n",
    "import pandas as pd\n",
    "from datetime import datetime\n",
    "csv_path = '../price_predict/vegetable_price/original_vegetable_csv/'\n",
    "vegetable_names = ['청양', '시금치(일반)', '토마토(일반)', '파프리카(일반)', '깻잎(일반)', '미나리(일반)', '양파(일반)', '풋고추(전체)']\n",
    "csv_files = glob.glob(csv_path + '*.csv')"
   ]
  },
  {
   "cell_type": "code",
   "execution_count": 145,
   "outputs": [],
   "source": [
    "class VegetablePriceReader:\n",
    "    # csv_file를 받아서 초기화하는 생성자 함수\n",
    "    def __init__(self, csv_file):\n",
    "        self.vege_name = os.path.basename(csv_file.split()[0])\n",
    "        self.df = pd.read_csv(csv_file)\n",
    "        self.df = self.df.drop(self.df.columns[1], axis=1).fillna(0)\n",
    "\n",
    "\n",
    "    # '일자' 열을 확인하고 오늘 날짜 이전의 모든 행을 필터링하는 함수\n",
    "    def filter_rows(self):\n",
    "        self.df['일자'] = pd.to_datetime(self.df['일자'].astype(str), format='%Y%m%d')\n",
    "        today = pd.to_datetime(datetime.now().strftime('%Y-%m-%d'))\n",
    "        self.df = self.df[self.df['일자'] <= today]\n",
    "\n",
    "\n",
    "    # 위의 네 가지 함수를 순서대로 실행하는 함수\n",
    "    def process(self):\n",
    "        col_name = self.df.columns[1]\n",
    "        self.df = self.df.rename(columns={col_name: self.vege_name + \" \" + col_name})\n",
    "        self.filter_rows()\n",
    "\n",
    "        return self.df.iloc[:,1]\n",
    "\n"
   ],
   "metadata": {
    "collapsed": false
   }
  },
  {
   "cell_type": "code",
   "execution_count": 146,
   "outputs": [],
   "source": [
    "\n",
    "# 오늘 날짜를 구합니다.\n",
    "today = datetime.today().strftime('%Y-%m-%d')\n",
    "\n",
    "# 날짜 범위를 생성합니다.\n",
    "date_range = pd.date_range(start='2023-01-01', end=today)\n",
    "\n",
    "# 날짜 범위를 데이터프레임에 추가합니다.\n",
    "df = pd.DataFrame(date_range, columns=['일자'])\n",
    "df['일자'] = df['일자'].dt.strftime('%Y-%m-%d')\n",
    "\n",
    "for csv_path in csv_files:\n",
    "    reader = VegetablePriceReader(csv_path)\n",
    "    df = pd.concat([df, reader.process()], axis=1)\n",
    "\n"
   ],
   "metadata": {
    "collapsed": false
   }
  },
  {
   "cell_type": "code",
   "execution_count": 147,
   "outputs": [],
   "source": [
    "df.to_json('output.json', orient='records')"
   ],
   "metadata": {
    "collapsed": false
   }
  },
  {
   "cell_type": "code",
   "execution_count": 148,
   "outputs": [],
   "source": [
    "with open('output.json', 'r') as f:\n",
    "    data = json.load(f)\n"
   ],
   "metadata": {
    "collapsed": false
   }
  },
  {
   "cell_type": "code",
   "execution_count": 151,
   "outputs": [
    {
     "data": {
      "text/plain": "            일자  풋고추(전체) 평균가격(원/kg)\n0   2023-01-01                 0.0\n1   2023-01-02              6600.0\n2   2023-01-03              6420.0\n3   2023-01-04              6430.0\n4   2023-01-05              6340.0\n..         ...                 ...\n139 2023-05-23              7020.0\n140 2023-05-24              6990.0\n141 2023-05-25              6960.0\n142 2023-05-26              6930.0\n143 2023-05-27              6900.0\n\n[144 rows x 2 columns]",
      "text/html": "<div>\n<style scoped>\n    .dataframe tbody tr th:only-of-type {\n        vertical-align: middle;\n    }\n\n    .dataframe tbody tr th {\n        vertical-align: top;\n    }\n\n    .dataframe thead th {\n        text-align: right;\n    }\n</style>\n<table border=\"1\" class=\"dataframe\">\n  <thead>\n    <tr style=\"text-align: right;\">\n      <th></th>\n      <th>일자</th>\n      <th>풋고추(전체) 평균가격(원/kg)</th>\n    </tr>\n  </thead>\n  <tbody>\n    <tr>\n      <th>0</th>\n      <td>2023-01-01</td>\n      <td>0.0</td>\n    </tr>\n    <tr>\n      <th>1</th>\n      <td>2023-01-02</td>\n      <td>6600.0</td>\n    </tr>\n    <tr>\n      <th>2</th>\n      <td>2023-01-03</td>\n      <td>6420.0</td>\n    </tr>\n    <tr>\n      <th>3</th>\n      <td>2023-01-04</td>\n      <td>6430.0</td>\n    </tr>\n    <tr>\n      <th>4</th>\n      <td>2023-01-05</td>\n      <td>6340.0</td>\n    </tr>\n    <tr>\n      <th>...</th>\n      <td>...</td>\n      <td>...</td>\n    </tr>\n    <tr>\n      <th>139</th>\n      <td>2023-05-23</td>\n      <td>7020.0</td>\n    </tr>\n    <tr>\n      <th>140</th>\n      <td>2023-05-24</td>\n      <td>6990.0</td>\n    </tr>\n    <tr>\n      <th>141</th>\n      <td>2023-05-25</td>\n      <td>6960.0</td>\n    </tr>\n    <tr>\n      <th>142</th>\n      <td>2023-05-26</td>\n      <td>6930.0</td>\n    </tr>\n    <tr>\n      <th>143</th>\n      <td>2023-05-27</td>\n      <td>6900.0</td>\n    </tr>\n  </tbody>\n</table>\n<p>144 rows × 2 columns</p>\n</div>"
     },
     "execution_count": 151,
     "metadata": {},
     "output_type": "execute_result"
    }
   ],
   "source": [
    "reader.df"
   ],
   "metadata": {
    "collapsed": false
   }
  }
 ],
 "metadata": {
  "kernelspec": {
   "display_name": "Python 3",
   "language": "python",
   "name": "python3"
  },
  "language_info": {
   "codemirror_mode": {
    "name": "ipython",
    "version": 2
   },
   "file_extension": ".py",
   "mimetype": "text/x-python",
   "name": "python",
   "nbconvert_exporter": "python",
   "pygments_lexer": "ipython2",
   "version": "2.7.6"
  }
 },
 "nbformat": 4,
 "nbformat_minor": 0
}
