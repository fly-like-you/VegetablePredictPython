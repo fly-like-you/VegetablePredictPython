{
 "cells": [
  {
   "cell_type": "code",
   "execution_count": 1,
   "id": "fa83b7ba",
   "metadata": {},
   "outputs": [],
   "source": [
    "import matplotlib.pyplot as plt\n",
    "plt.rc('font', family='NanumBarunGothic') \n",
    "import tensorflow as tf\n",
    "import pandas as pd\n",
    "import numpy as np\n",
    "from datetime import datetime\n",
    "from sklearn.preprocessing import MinMaxScaler\n",
    "from sklearn.metrics import mean_absolute_error\n",
    "from tensorflow.keras import Sequential\n",
    "from tensorflow.keras import layers\n",
    "from tensorflow.keras.layers import Dense, LSTM, Dropout\n",
    "from keras.callbacks import EarlyStopping\n",
    "from statsmodels.tsa.seasonal import STL\n",
    "from datetime import timedelta"
   ]
  },
  {
   "cell_type": "code",
   "execution_count": 23,
   "outputs": [],
   "source": [
    "def get_vegetable_trade_dict(trade_path_args):\n",
    "    return get_dict_from_csv(trade_path_args, '거래물량(톤)')\n",
    "\n",
    "def get_vegetable_price_dict(price_path_args):\n",
    "    return get_dict_from_csv(price_path_args, '평균가격(원/kg)')\n",
    "\n",
    "def get_dict_from_csv(path_args, col_name):\n",
    "    path = ''.join(path_args)\n",
    "\n",
    "    target = pd.read_csv(path, encoding='utf-8').replace(np.NaN, 0)\n",
    "    target['일자'] = pd.to_datetime(target['일자'], format='%Y%m%d')\n",
    "\n",
    "    target_dict = {}\n",
    "    # 오늘 날짜 얻기\n",
    "    today = datetime.today().date()\n",
    "    # 행을 반복하며 '일자' 확인\n",
    "    for index, row in target.iterrows():\n",
    "        date = row['일자'].date()\n",
    "        target_dict[date] = row[col_name] if col_name == '평균가격(원/kg)' else row[col_name] * 1000\n",
    "\n",
    "        # '일자'가 오늘 날짜와 같으면 반복 중지\n",
    "        if row['일자'].date() == today:\n",
    "            break\n",
    "    return target_dict"
   ],
   "metadata": {
    "collapsed": false
   }
  },
  {
   "cell_type": "markdown",
   "source": [
    "## 크롤링한 데이터 가져오기"
   ],
   "metadata": {
    "collapsed": false
   }
  },
  {
   "cell_type": "code",
   "execution_count": 24,
   "outputs": [],
   "source": [
    "original_path = './vegetable_price/original_vegetable_csv/'\n",
    "test_path = './vegetable_price/test.csv'\n",
    "train_path = './vegetable_price/train.csv'\n",
    "\n",
    "vegetable_names = ['청양', '시금치(일반)', '토마토(일반)', '파프리카(일반)', '깻잎(일반)', '미나리(일반)', '양파(일반)', '풋고추(전체)']\n",
    "\n",
    "vegetable_price_dict = {x: None for x in vegetable_names}\n",
    "vegetable_trade_dict = {x: None for x in vegetable_names}\n",
    "\n",
    "for vegetable in vegetable_names:\n",
    "    trade_path_args = [original_path, vegetable, \" 거래물량 정보.csv\"]\n",
    "    price_path_args = [original_path, vegetable, \" 평균가격 정보.csv\"]\n",
    "\n",
    "    vegetable_price_dict[vegetable] = get_vegetable_price_dict(price_path_args)\n",
    "    vegetable_trade_dict[vegetable] = get_vegetable_trade_dict(trade_path_args)"
   ],
   "metadata": {
    "collapsed": false
   }
  },
  {
   "cell_type": "markdown",
   "source": [
    "## test 파일 전처리"
   ],
   "metadata": {
    "collapsed": false
   }
  },
  {
   "cell_type": "code",
   "execution_count": 25,
   "outputs": [],
   "source": [
    "test = pd.read_csv(test_path, encoding='ANSI').replace(np.NaN, 0)\n",
    "\n",
    "# 유효한 날짜 형식을 가지는 행만 선택\n",
    "test['date'] = pd.to_datetime(test['date'], errors='coerce')\n",
    "test = test.dropna(subset=['date'])\n",
    "\n",
    "weekdays = [\"월요일\", \"화요일\", \"수요일\", \"목요일\", \"금요일\", \"토요일\", \"일요일\"]\n",
    "\n",
    "# 오늘의 날짜를 얻습니다.\n",
    "today = datetime.today()\n",
    "\n",
    "\n",
    "# DataFrame의 마지막 날짜를 얻습니다.\n",
    "last_date = test['date'].iloc[-1] + timedelta(days=1)\n",
    "\n",
    "\n",
    "while True:\n",
    "    if last_date.date() > today.date():\n",
    "        break\n",
    "    li = [last_date, weekdays[last_date.weekday()]]\n",
    "    for col in vegetable_trade_dict.keys():\n",
    "        li.append(vegetable_trade_dict[col][last_date.date()])\n",
    "        li.append(vegetable_price_dict[col][last_date.date()])\n",
    "    test.loc[len(test)] = li\n",
    "    last_date += timedelta(days=1)\n",
    "test['date'] = pd.to_datetime(test['date']).dt.strftime('%Y-%m-%d')\n",
    "test.to_csv(test_path, encoding='ANSI', index=False)\n"
   ],
   "metadata": {
    "collapsed": false
   }
  },
  {
   "cell_type": "markdown",
   "source": [
    "## train 파일 전처리"
   ],
   "metadata": {
    "collapsed": false
   }
  },
  {
   "cell_type": "code",
   "execution_count": 26,
   "outputs": [],
   "source": [
    "train_csv = pd.read_csv(train_path, encoding='ANSI')\n",
    "train = pd.concat([train_csv, test], axis=0)\n",
    "\n",
    "train.date = pd.to_datetime(train.date)\n",
    "train = pd.concat([train, pd.get_dummies(train['요일'])], axis=1)\n",
    "feature = train.columns[2:]\n",
    "train = train.reset_index(drop=True)\n",
    "train = train[1:].replace(0, np.NaN).fillna(method='ffill').fillna(0)\n",
    "\n",
    "vegetable_data_frame = train.drop(columns=['금요일', '목요일', '수요일', '월요일', '일요일', '토요일', '화요일'])\n",
    "\n",
    "df2 = vegetable_data_frame[0:-2]\n",
    "vegetable_today = vegetable_data_frame[-1:]"
   ],
   "metadata": {
    "collapsed": false
   }
  },
  {
   "cell_type": "markdown",
   "source": [
    "## 머신러닝 실행!"
   ],
   "metadata": {
    "collapsed": false
   }
  },
  {
   "cell_type": "code",
   "execution_count": 27,
   "id": "96deaeac",
   "metadata": {},
   "outputs": [],
   "source": [
    "from matplotlib import pyplot as plt\n",
    "from tqdm import tqdm\n",
    "class Nong1:\n",
    "    def __init__(self, df, test):\n",
    "        self.test = test\n",
    "        self.df = pd.concat([df, self.test], axis=0)[1:].replace(0, np.NaN).fillna(method='ffill').fillna(0)\n",
    "\n",
    "        self.df.date = pd.to_datetime(self.df.date)\n",
    "        self.df = pd.concat([self.df, pd.get_dummies(self.df['요일'])], axis=1)\n",
    "        self.feature = self.df.columns[2:]\n",
    "        self.df = self.df.reset_index(drop=True)\n",
    "\n",
    "    def set_feature(self,name):\n",
    "        self.name = name\n",
    "        self.name1 = name+\"_가격(원/kg)\"\n",
    "        self.name2 = name+\"_거래량(kg)\"\n",
    "        self.feature = [self.name1, self.name2, '금요일',   '목요일',   '수요일',   '월요일',   '일요일',   '토요일',   '화요일', 'resid']\n",
    "\n",
    "    def set_target(self,day):\n",
    "        if day == 1:\n",
    "            self.df['target'] = self.df[self.name1].shift(-2)\n",
    "        elif day == 2:\n",
    "            self.df['target'] = self.df[self.name1].shift(-3)\n",
    "        elif day == 3:\n",
    "            self.df['target'] = self.df[self.name1].shift(-4)\n",
    "        elif day == 4:\n",
    "            self.df['target'] = self.df[self.name1].shift(-5)\n",
    "        elif day == 5:\n",
    "            self.df['target'] = self.df[self.name1].shift(-6)\n",
    "        elif day == 6:\n",
    "            self.df['target'] = self.df[self.name1].shift(-7)\n",
    "        elif day == 7:\n",
    "            self.df['target'] = self.df[self.name1].shift(-8)\n",
    "        self.df['resid'] = 0\n",
    "        stl = STL(self.df[['date', self.name1]].set_index('date'), period=12)\n",
    "        res = stl.fit()\n",
    "        self.df['resid'] = res.resid.values\n",
    "\n",
    "    def set_model(self):\n",
    "        self.scaler = MinMaxScaler()\n",
    "        self.df[self.feature] = self.scaler.fit_transform(self.df[self.feature])\n",
    "        self.df_learn = self.df[self.df['target'].notnull()]\n",
    "        self.X = self.df_learn[self.feature].values.reshape(-1,1,len(self.feature))\n",
    "        self.y = self.df_learn['target'].values.reshape(-1,1,1)\n",
    "\n",
    "        with tf.device('/device:GPU:0'):\n",
    "            self.model = Sequential()\n",
    "            self.model.add(layers.Activation('relu'))\n",
    "            self.model.add(tf.compat.v1.keras.layers.LSTM(100, input_shape=(21,len(self.feature)), return_sequences=True))\n",
    "            self.model.add(Dropout(0.1))\n",
    "            self.model.add(layers.Dense(30))\n",
    "            self.model.add(Dropout(0.1))\n",
    "            self.model.add(layers.Dense(1))\n",
    "            self.model.compile(optimizer='adam', loss='mse')\n",
    "            self.early_stopping = EarlyStopping(patience=30)\n",
    "\n",
    "            # tqdm을 사용하여 진행 상태 표시\n",
    "            # tqdm을 사용하여 진행 상태 표시\n",
    "            with tqdm(total=1000, desc=\"Epochs\", bar_format=\"{l_bar}{bar}| {n_fmt}/{total_fmt} [{elapsed}<{remaining}]\") as pbar:\n",
    "                self.model.fit(\n",
    "                    self.X, self.y, epochs=1000, batch_size=32, validation_split=0.1,\n",
    "                    callbacks=[\n",
    "                        self.early_stopping,\n",
    "                        tf.keras.callbacks.LambdaCallback(on_epoch_end=lambda batch, logs: pbar.update(1))\n",
    "                    ],\n",
    "                    verbose=0\n",
    "                )\n",
    "    def get_plot(self):\n",
    "        self.y_pred = self.model.predict(self.X)\n",
    "        self.MAE = mean_absolute_error(self.y.reshape(-1,1), self.y_pred.reshape(-1,1))\n",
    "        plt.figure(figsize=(20, 10), dpi=300)\n",
    "        plt.title(self.name + ' 가격 예측 결과'+   '   MAE : ' + str(self.MAE)[:7])\n",
    "        plt.ylabel(self.name + ' 가격')\n",
    "        plt.plot(np.array(self.y.reshape(-1,1)), alpha = 0.9, label = 'Real')\n",
    "        plt.plot(self.model.predict(self.X).reshape(-1,1), alpha = 0.6, linestyle = \"--\", label = 'Predict')\n",
    "        plt.legend()\n",
    "        plt.show()\n",
    "\n",
    "    def get_price(self):\n",
    "        self.price = self.model.predict(self.df[self.feature].iloc[len(self.df)-1].values.reshape(-1,1,len(self.feature)))\n",
    "        return self.price[0][0][0]"
   ]
  },
  {
   "cell_type": "code",
   "execution_count": 7,
   "outputs": [
    {
     "name": "stderr",
     "output_type": "stream",
     "text": [
      "Epochs:  15%|█▌        | 152/1000 [02:08<11:58]\n"
     ]
    },
    {
     "name": "stdout",
     "output_type": "stream",
     "text": [
      "1/1 [==============================] - 0s 181ms/step\n"
     ]
    },
    {
     "name": "stderr",
     "output_type": "stream",
     "text": [
      "Epochs:  11%|█         | 109/1000 [01:32<12:33]"
     ]
    },
    {
     "name": "stdout",
     "output_type": "stream",
     "text": [
      "1/1 [==============================] - ETA: 0s"
     ]
    },
    {
     "name": "stderr",
     "output_type": "stream",
     "text": [
      "\n"
     ]
    },
    {
     "name": "stdout",
     "output_type": "stream",
     "text": [
      "1/1 [==============================] - 0s 173ms/step\n"
     ]
    }
   ],
   "source": [
    "features = ['청양고추']\n",
    "days = [1,2]\n",
    "models = []\n",
    "predictions = []\n",
    "for day in days:\n",
    "    for feature in features:\n",
    "        my_nong1 = Nong1(df2, vegetable_today)\n",
    "        my_nong1.set_feature(feature)\n",
    "        my_nong1.set_target(day)\n",
    "        my_nong1.set_model()\n",
    "        predictions.append(my_nong1.get_price())\n",
    "        models.append(my_nong1)"
   ],
   "metadata": {
    "collapsed": false
   }
  },
  {
   "cell_type": "code",
   "execution_count": 8,
   "outputs": [
    {
     "name": "stdout",
     "output_type": "stream",
     "text": [
      "1/1 [==============================] - 0s 16ms/step\n",
      "[[[7452.083]]] 7452.083\n"
     ]
    }
   ],
   "source": [
    "day_1_model = models[0]\n",
    "day_2_model = models[1]\n",
    "predict_1 = day_1_model.model.predict(day_1_model.df[day_1_model.feature].iloc[len(day_1_model.df)-1].values.reshape(-1,1,len(day_1_model.feature)))\n",
    "print(predict_1, predictions[0])"
   ],
   "metadata": {
    "collapsed": false
   }
  },
  {
   "cell_type": "code",
   "execution_count": 22,
   "outputs": [
    {
     "data": {
      "text/plain": "청양고추_가격(원/kg)    0.590047\n청양고추_거래량(kg)     0.558527\n금요일              0.000000\n목요일              0.000000\n수요일              0.000000\n월요일              0.000000\n일요일              0.000000\n토요일              1.000000\n화요일              0.000000\nresid            0.440599\nName: 3795, dtype: float64"
     },
     "execution_count": 22,
     "metadata": {},
     "output_type": "execute_result"
    }
   ],
   "source": [
    "day_2_model.df[day_2_model.feature].iloc[len(day_2_model.df)-1]"
   ],
   "metadata": {
    "collapsed": false
   }
  },
  {
   "cell_type": "code",
   "execution_count": 9,
   "outputs": [
    {
     "data": {
      "text/plain": "           date   요일  청양고추_거래량(kg)  청양고추_가격(원/kg)  시금치_거래량(kg)  시금치_가격(원/kg)   \n0    2013-01-03  목요일      0.371428       0.719194      82050.0        2820.0  \\\n1    2013-01-04  금요일      0.371895       0.713270      97580.0        3020.0   \n2    2013-01-05  토요일      0.358415       0.708531     103760.0        3190.0   \n3    2013-01-06  일요일      0.358415       0.708531     103760.0        3190.0   \n4    2013-01-07  월요일      0.356734       0.714455     117690.0        3280.0   \n...         ...  ...           ...            ...          ...           ...   \n3791 2023-05-22  월요일      0.554044       0.604265     158930.0        2240.0   \n3792 2023-05-23  화요일      0.554822       0.600711     158300.0        2240.0   \n3793 2023-05-24  수요일      0.557562       0.597156     158000.0        2250.0   \n3794 2023-05-25  목요일      0.558122       0.593602     157390.0        2250.0   \n3795 2023-05-27  토요일      0.558527       0.590047     156790.0        2250.0   \n\n      토마토_거래량(kg)  토마토_가격(원/kg)  파프리카_거래량(kg)  파프리카_가격(원/kg)  ...   \n0         30970.0        2350.0        4760.0         3840.0  ...  \\\n1         48250.0        2260.0        4540.0         4290.0  ...   \n2         50650.0        2230.0        4100.0         4510.0  ...   \n3         50650.0        2230.0        4100.0         4510.0  ...   \n4         58180.0        2210.0        4420.0         4510.0  ...   \n...           ...           ...           ...            ...  ...   \n3791     208530.0        2810.0        5990.0         5670.0  ...   \n3792     208800.0        2800.0        5980.0         5670.0  ...   \n3793     210640.0        2790.0        5980.0         5670.0  ...   \n3794     211230.0        2790.0        5980.0         5660.0  ...   \n3795     211950.0        2780.0        5980.0         5640.0  ...   \n\n      풋고추_가격(원/kg)  금요일  목요일  수요일  월요일  일요일  토요일  화요일  target     resid  \n0           5870.0  0.0  1.0  0.0  0.0  0.0  0.0  0.0  8500.0  0.457482  \n1           6260.0  1.0  0.0  0.0  0.0  0.0  0.0  0.0  8500.0  0.446439  \n2           6440.0  0.0  0.0  0.0  0.0  0.0  1.0  0.0  8550.0  0.438597  \n3           6440.0  0.0  0.0  0.0  0.0  1.0  0.0  0.0  8550.0  0.432596  \n4           6560.0  0.0  0.0  0.0  1.0  0.0  0.0  0.0  8590.0  0.435854  \n...            ...  ...  ...  ...  ...  ...  ...  ...     ...       ...  \n3791        7050.0  0.0  0.0  0.0  1.0  0.0  0.0  0.0  7560.0  0.446557  \n3792        7020.0  0.0  0.0  0.0  0.0  0.0  0.0  1.0  7530.0  0.446807  \n3793        6990.0  0.0  0.0  1.0  0.0  0.0  0.0  0.0  7500.0  0.444306  \n3794        6960.0  0.0  1.0  0.0  0.0  0.0  0.0  0.0     NaN  0.444758  \n3795        6930.0  0.0  0.0  0.0  0.0  0.0  1.0  0.0     NaN  0.440599  \n\n[3796 rows x 27 columns]",
      "text/html": "<div>\n<style scoped>\n    .dataframe tbody tr th:only-of-type {\n        vertical-align: middle;\n    }\n\n    .dataframe tbody tr th {\n        vertical-align: top;\n    }\n\n    .dataframe thead th {\n        text-align: right;\n    }\n</style>\n<table border=\"1\" class=\"dataframe\">\n  <thead>\n    <tr style=\"text-align: right;\">\n      <th></th>\n      <th>date</th>\n      <th>요일</th>\n      <th>청양고추_거래량(kg)</th>\n      <th>청양고추_가격(원/kg)</th>\n      <th>시금치_거래량(kg)</th>\n      <th>시금치_가격(원/kg)</th>\n      <th>토마토_거래량(kg)</th>\n      <th>토마토_가격(원/kg)</th>\n      <th>파프리카_거래량(kg)</th>\n      <th>파프리카_가격(원/kg)</th>\n      <th>...</th>\n      <th>풋고추_가격(원/kg)</th>\n      <th>금요일</th>\n      <th>목요일</th>\n      <th>수요일</th>\n      <th>월요일</th>\n      <th>일요일</th>\n      <th>토요일</th>\n      <th>화요일</th>\n      <th>target</th>\n      <th>resid</th>\n    </tr>\n  </thead>\n  <tbody>\n    <tr>\n      <th>0</th>\n      <td>2013-01-03</td>\n      <td>목요일</td>\n      <td>0.371428</td>\n      <td>0.719194</td>\n      <td>82050.0</td>\n      <td>2820.0</td>\n      <td>30970.0</td>\n      <td>2350.0</td>\n      <td>4760.0</td>\n      <td>3840.0</td>\n      <td>...</td>\n      <td>5870.0</td>\n      <td>0.0</td>\n      <td>1.0</td>\n      <td>0.0</td>\n      <td>0.0</td>\n      <td>0.0</td>\n      <td>0.0</td>\n      <td>0.0</td>\n      <td>8500.0</td>\n      <td>0.457482</td>\n    </tr>\n    <tr>\n      <th>1</th>\n      <td>2013-01-04</td>\n      <td>금요일</td>\n      <td>0.371895</td>\n      <td>0.713270</td>\n      <td>97580.0</td>\n      <td>3020.0</td>\n      <td>48250.0</td>\n      <td>2260.0</td>\n      <td>4540.0</td>\n      <td>4290.0</td>\n      <td>...</td>\n      <td>6260.0</td>\n      <td>1.0</td>\n      <td>0.0</td>\n      <td>0.0</td>\n      <td>0.0</td>\n      <td>0.0</td>\n      <td>0.0</td>\n      <td>0.0</td>\n      <td>8500.0</td>\n      <td>0.446439</td>\n    </tr>\n    <tr>\n      <th>2</th>\n      <td>2013-01-05</td>\n      <td>토요일</td>\n      <td>0.358415</td>\n      <td>0.708531</td>\n      <td>103760.0</td>\n      <td>3190.0</td>\n      <td>50650.0</td>\n      <td>2230.0</td>\n      <td>4100.0</td>\n      <td>4510.0</td>\n      <td>...</td>\n      <td>6440.0</td>\n      <td>0.0</td>\n      <td>0.0</td>\n      <td>0.0</td>\n      <td>0.0</td>\n      <td>0.0</td>\n      <td>1.0</td>\n      <td>0.0</td>\n      <td>8550.0</td>\n      <td>0.438597</td>\n    </tr>\n    <tr>\n      <th>3</th>\n      <td>2013-01-06</td>\n      <td>일요일</td>\n      <td>0.358415</td>\n      <td>0.708531</td>\n      <td>103760.0</td>\n      <td>3190.0</td>\n      <td>50650.0</td>\n      <td>2230.0</td>\n      <td>4100.0</td>\n      <td>4510.0</td>\n      <td>...</td>\n      <td>6440.0</td>\n      <td>0.0</td>\n      <td>0.0</td>\n      <td>0.0</td>\n      <td>0.0</td>\n      <td>1.0</td>\n      <td>0.0</td>\n      <td>0.0</td>\n      <td>8550.0</td>\n      <td>0.432596</td>\n    </tr>\n    <tr>\n      <th>4</th>\n      <td>2013-01-07</td>\n      <td>월요일</td>\n      <td>0.356734</td>\n      <td>0.714455</td>\n      <td>117690.0</td>\n      <td>3280.0</td>\n      <td>58180.0</td>\n      <td>2210.0</td>\n      <td>4420.0</td>\n      <td>4510.0</td>\n      <td>...</td>\n      <td>6560.0</td>\n      <td>0.0</td>\n      <td>0.0</td>\n      <td>0.0</td>\n      <td>1.0</td>\n      <td>0.0</td>\n      <td>0.0</td>\n      <td>0.0</td>\n      <td>8590.0</td>\n      <td>0.435854</td>\n    </tr>\n    <tr>\n      <th>...</th>\n      <td>...</td>\n      <td>...</td>\n      <td>...</td>\n      <td>...</td>\n      <td>...</td>\n      <td>...</td>\n      <td>...</td>\n      <td>...</td>\n      <td>...</td>\n      <td>...</td>\n      <td>...</td>\n      <td>...</td>\n      <td>...</td>\n      <td>...</td>\n      <td>...</td>\n      <td>...</td>\n      <td>...</td>\n      <td>...</td>\n      <td>...</td>\n      <td>...</td>\n      <td>...</td>\n    </tr>\n    <tr>\n      <th>3791</th>\n      <td>2023-05-22</td>\n      <td>월요일</td>\n      <td>0.554044</td>\n      <td>0.604265</td>\n      <td>158930.0</td>\n      <td>2240.0</td>\n      <td>208530.0</td>\n      <td>2810.0</td>\n      <td>5990.0</td>\n      <td>5670.0</td>\n      <td>...</td>\n      <td>7050.0</td>\n      <td>0.0</td>\n      <td>0.0</td>\n      <td>0.0</td>\n      <td>1.0</td>\n      <td>0.0</td>\n      <td>0.0</td>\n      <td>0.0</td>\n      <td>7560.0</td>\n      <td>0.446557</td>\n    </tr>\n    <tr>\n      <th>3792</th>\n      <td>2023-05-23</td>\n      <td>화요일</td>\n      <td>0.554822</td>\n      <td>0.600711</td>\n      <td>158300.0</td>\n      <td>2240.0</td>\n      <td>208800.0</td>\n      <td>2800.0</td>\n      <td>5980.0</td>\n      <td>5670.0</td>\n      <td>...</td>\n      <td>7020.0</td>\n      <td>0.0</td>\n      <td>0.0</td>\n      <td>0.0</td>\n      <td>0.0</td>\n      <td>0.0</td>\n      <td>0.0</td>\n      <td>1.0</td>\n      <td>7530.0</td>\n      <td>0.446807</td>\n    </tr>\n    <tr>\n      <th>3793</th>\n      <td>2023-05-24</td>\n      <td>수요일</td>\n      <td>0.557562</td>\n      <td>0.597156</td>\n      <td>158000.0</td>\n      <td>2250.0</td>\n      <td>210640.0</td>\n      <td>2790.0</td>\n      <td>5980.0</td>\n      <td>5670.0</td>\n      <td>...</td>\n      <td>6990.0</td>\n      <td>0.0</td>\n      <td>0.0</td>\n      <td>1.0</td>\n      <td>0.0</td>\n      <td>0.0</td>\n      <td>0.0</td>\n      <td>0.0</td>\n      <td>7500.0</td>\n      <td>0.444306</td>\n    </tr>\n    <tr>\n      <th>3794</th>\n      <td>2023-05-25</td>\n      <td>목요일</td>\n      <td>0.558122</td>\n      <td>0.593602</td>\n      <td>157390.0</td>\n      <td>2250.0</td>\n      <td>211230.0</td>\n      <td>2790.0</td>\n      <td>5980.0</td>\n      <td>5660.0</td>\n      <td>...</td>\n      <td>6960.0</td>\n      <td>0.0</td>\n      <td>1.0</td>\n      <td>0.0</td>\n      <td>0.0</td>\n      <td>0.0</td>\n      <td>0.0</td>\n      <td>0.0</td>\n      <td>NaN</td>\n      <td>0.444758</td>\n    </tr>\n    <tr>\n      <th>3795</th>\n      <td>2023-05-27</td>\n      <td>토요일</td>\n      <td>0.558527</td>\n      <td>0.590047</td>\n      <td>156790.0</td>\n      <td>2250.0</td>\n      <td>211950.0</td>\n      <td>2780.0</td>\n      <td>5980.0</td>\n      <td>5640.0</td>\n      <td>...</td>\n      <td>6930.0</td>\n      <td>0.0</td>\n      <td>0.0</td>\n      <td>0.0</td>\n      <td>0.0</td>\n      <td>0.0</td>\n      <td>1.0</td>\n      <td>0.0</td>\n      <td>NaN</td>\n      <td>0.440599</td>\n    </tr>\n  </tbody>\n</table>\n<p>3796 rows × 27 columns</p>\n</div>"
     },
     "execution_count": 9,
     "metadata": {},
     "output_type": "execute_result"
    }
   ],
   "source": [
    "day_1_model.df"
   ],
   "metadata": {
    "collapsed": false
   }
  },
  {
   "cell_type": "code",
   "execution_count": 9,
   "id": "15e5ea65",
   "metadata": {},
   "outputs": [
    {
     "name": "stdout",
     "output_type": "stream",
     "text": [
      "1\n",
      "청양고추\n"
     ]
    },
    {
     "name": "stderr",
     "output_type": "stream",
     "text": [
      "Epochs:   1%|          | 8/1000 [00:09<19:42]\n"
     ]
    },
    {
     "ename": "KeyboardInterrupt",
     "evalue": "",
     "output_type": "error",
     "traceback": [
      "\u001B[1;31m---------------------------------------------------------------------------\u001B[0m",
      "\u001B[1;31mKeyboardInterrupt\u001B[0m                         Traceback (most recent call last)",
      "Cell \u001B[1;32mIn[9], line 19\u001B[0m\n\u001B[0;32m     17\u001B[0m my_nong1\u001B[38;5;241m.\u001B[39mset_target(day)\n\u001B[0;32m     18\u001B[0m \u001B[38;5;28mprint\u001B[39m(feature)\n\u001B[1;32m---> 19\u001B[0m \u001B[43mmy_nong1\u001B[49m\u001B[38;5;241;43m.\u001B[39;49m\u001B[43mset_model\u001B[49m\u001B[43m(\u001B[49m\u001B[43m)\u001B[49m\n\u001B[0;32m     20\u001B[0m \u001B[38;5;28;01mif\u001B[39;00m day \u001B[38;5;241m==\u001B[39m \u001B[38;5;241m1\u001B[39m:\n\u001B[0;32m     21\u001B[0m   day1\u001B[38;5;241m.\u001B[39mappend(my_nong1\u001B[38;5;241m.\u001B[39mget_price())\n",
      "Cell \u001B[1;32mIn[8], line 60\u001B[0m, in \u001B[0;36mNong1.set_model\u001B[1;34m(self)\u001B[0m\n\u001B[0;32m     57\u001B[0m \u001B[38;5;66;03m# tqdm을 사용하여 진행 상태 표시\u001B[39;00m\n\u001B[0;32m     58\u001B[0m \u001B[38;5;66;03m# tqdm을 사용하여 진행 상태 표시\u001B[39;00m\n\u001B[0;32m     59\u001B[0m \u001B[38;5;28;01mwith\u001B[39;00m tqdm(total\u001B[38;5;241m=\u001B[39m\u001B[38;5;241m1000\u001B[39m, desc\u001B[38;5;241m=\u001B[39m\u001B[38;5;124m\"\u001B[39m\u001B[38;5;124mEpochs\u001B[39m\u001B[38;5;124m\"\u001B[39m, bar_format\u001B[38;5;241m=\u001B[39m\u001B[38;5;124m\"\u001B[39m\u001B[38;5;132;01m{l_bar}\u001B[39;00m\u001B[38;5;132;01m{bar}\u001B[39;00m\u001B[38;5;124m| \u001B[39m\u001B[38;5;132;01m{n_fmt}\u001B[39;00m\u001B[38;5;124m/\u001B[39m\u001B[38;5;132;01m{total_fmt}\u001B[39;00m\u001B[38;5;124m [\u001B[39m\u001B[38;5;132;01m{elapsed}\u001B[39;00m\u001B[38;5;124m<\u001B[39m\u001B[38;5;132;01m{remaining}\u001B[39;00m\u001B[38;5;124m]\u001B[39m\u001B[38;5;124m\"\u001B[39m) \u001B[38;5;28;01mas\u001B[39;00m pbar:\n\u001B[1;32m---> 60\u001B[0m     \u001B[38;5;28;43mself\u001B[39;49m\u001B[38;5;241;43m.\u001B[39;49m\u001B[43mmodel\u001B[49m\u001B[38;5;241;43m.\u001B[39;49m\u001B[43mfit\u001B[49m\u001B[43m(\u001B[49m\n\u001B[0;32m     61\u001B[0m \u001B[43m        \u001B[49m\u001B[38;5;28;43mself\u001B[39;49m\u001B[38;5;241;43m.\u001B[39;49m\u001B[43mX\u001B[49m\u001B[43m,\u001B[49m\u001B[43m \u001B[49m\u001B[38;5;28;43mself\u001B[39;49m\u001B[38;5;241;43m.\u001B[39;49m\u001B[43my\u001B[49m\u001B[43m,\u001B[49m\u001B[43m \u001B[49m\u001B[43mepochs\u001B[49m\u001B[38;5;241;43m=\u001B[39;49m\u001B[38;5;241;43m1000\u001B[39;49m\u001B[43m,\u001B[49m\u001B[43m \u001B[49m\u001B[43mbatch_size\u001B[49m\u001B[38;5;241;43m=\u001B[39;49m\u001B[38;5;241;43m32\u001B[39;49m\u001B[43m,\u001B[49m\u001B[43m \u001B[49m\u001B[43mvalidation_split\u001B[49m\u001B[38;5;241;43m=\u001B[39;49m\u001B[38;5;241;43m0.1\u001B[39;49m\u001B[43m,\u001B[49m\n\u001B[0;32m     62\u001B[0m \u001B[43m        \u001B[49m\u001B[43mcallbacks\u001B[49m\u001B[38;5;241;43m=\u001B[39;49m\u001B[43m[\u001B[49m\n\u001B[0;32m     63\u001B[0m \u001B[43m            \u001B[49m\u001B[38;5;28;43mself\u001B[39;49m\u001B[38;5;241;43m.\u001B[39;49m\u001B[43mearly_stopping\u001B[49m\u001B[43m,\u001B[49m\n\u001B[0;32m     64\u001B[0m \u001B[43m            \u001B[49m\u001B[43mtf\u001B[49m\u001B[38;5;241;43m.\u001B[39;49m\u001B[43mkeras\u001B[49m\u001B[38;5;241;43m.\u001B[39;49m\u001B[43mcallbacks\u001B[49m\u001B[38;5;241;43m.\u001B[39;49m\u001B[43mLambdaCallback\u001B[49m\u001B[43m(\u001B[49m\u001B[43mon_epoch_end\u001B[49m\u001B[38;5;241;43m=\u001B[39;49m\u001B[38;5;28;43;01mlambda\u001B[39;49;00m\u001B[43m \u001B[49m\u001B[43mbatch\u001B[49m\u001B[43m,\u001B[49m\u001B[43m \u001B[49m\u001B[43mlogs\u001B[49m\u001B[43m:\u001B[49m\u001B[43m \u001B[49m\u001B[43mpbar\u001B[49m\u001B[38;5;241;43m.\u001B[39;49m\u001B[43mupdate\u001B[49m\u001B[43m(\u001B[49m\u001B[38;5;241;43m1\u001B[39;49m\u001B[43m)\u001B[49m\u001B[43m)\u001B[49m\n\u001B[0;32m     65\u001B[0m \u001B[43m        \u001B[49m\u001B[43m]\u001B[49m\u001B[43m,\u001B[49m\n\u001B[0;32m     66\u001B[0m \u001B[43m        \u001B[49m\u001B[43mverbose\u001B[49m\u001B[38;5;241;43m=\u001B[39;49m\u001B[38;5;241;43m0\u001B[39;49m\n\u001B[0;32m     67\u001B[0m \u001B[43m    \u001B[49m\u001B[43m)\u001B[49m\n",
      "File \u001B[1;32m~\\anaconda3\\envs\\MachineLearning\\lib\\site-packages\\keras\\utils\\traceback_utils.py:65\u001B[0m, in \u001B[0;36mfilter_traceback.<locals>.error_handler\u001B[1;34m(*args, **kwargs)\u001B[0m\n\u001B[0;32m     63\u001B[0m filtered_tb \u001B[38;5;241m=\u001B[39m \u001B[38;5;28;01mNone\u001B[39;00m\n\u001B[0;32m     64\u001B[0m \u001B[38;5;28;01mtry\u001B[39;00m:\n\u001B[1;32m---> 65\u001B[0m     \u001B[38;5;28;01mreturn\u001B[39;00m fn(\u001B[38;5;241m*\u001B[39margs, \u001B[38;5;241m*\u001B[39m\u001B[38;5;241m*\u001B[39mkwargs)\n\u001B[0;32m     66\u001B[0m \u001B[38;5;28;01mexcept\u001B[39;00m \u001B[38;5;167;01mException\u001B[39;00m \u001B[38;5;28;01mas\u001B[39;00m e:\n\u001B[0;32m     67\u001B[0m     filtered_tb \u001B[38;5;241m=\u001B[39m _process_traceback_frames(e\u001B[38;5;241m.\u001B[39m__traceback__)\n",
      "File \u001B[1;32m~\\anaconda3\\envs\\MachineLearning\\lib\\site-packages\\keras\\engine\\training.py:1564\u001B[0m, in \u001B[0;36mModel.fit\u001B[1;34m(self, x, y, batch_size, epochs, verbose, callbacks, validation_split, validation_data, shuffle, class_weight, sample_weight, initial_epoch, steps_per_epoch, validation_steps, validation_batch_size, validation_freq, max_queue_size, workers, use_multiprocessing)\u001B[0m\n\u001B[0;32m   1556\u001B[0m \u001B[38;5;28;01mwith\u001B[39;00m tf\u001B[38;5;241m.\u001B[39mprofiler\u001B[38;5;241m.\u001B[39mexperimental\u001B[38;5;241m.\u001B[39mTrace(\n\u001B[0;32m   1557\u001B[0m     \u001B[38;5;124m\"\u001B[39m\u001B[38;5;124mtrain\u001B[39m\u001B[38;5;124m\"\u001B[39m,\n\u001B[0;32m   1558\u001B[0m     epoch_num\u001B[38;5;241m=\u001B[39mepoch,\n\u001B[1;32m   (...)\u001B[0m\n\u001B[0;32m   1561\u001B[0m     _r\u001B[38;5;241m=\u001B[39m\u001B[38;5;241m1\u001B[39m,\n\u001B[0;32m   1562\u001B[0m ):\n\u001B[0;32m   1563\u001B[0m     callbacks\u001B[38;5;241m.\u001B[39mon_train_batch_begin(step)\n\u001B[1;32m-> 1564\u001B[0m     tmp_logs \u001B[38;5;241m=\u001B[39m \u001B[38;5;28;43mself\u001B[39;49m\u001B[38;5;241;43m.\u001B[39;49m\u001B[43mtrain_function\u001B[49m\u001B[43m(\u001B[49m\u001B[43miterator\u001B[49m\u001B[43m)\u001B[49m\n\u001B[0;32m   1565\u001B[0m     \u001B[38;5;28;01mif\u001B[39;00m data_handler\u001B[38;5;241m.\u001B[39mshould_sync:\n\u001B[0;32m   1566\u001B[0m         context\u001B[38;5;241m.\u001B[39masync_wait()\n",
      "File \u001B[1;32m~\\anaconda3\\envs\\MachineLearning\\lib\\site-packages\\tensorflow\\python\\util\\traceback_utils.py:150\u001B[0m, in \u001B[0;36mfilter_traceback.<locals>.error_handler\u001B[1;34m(*args, **kwargs)\u001B[0m\n\u001B[0;32m    148\u001B[0m filtered_tb \u001B[38;5;241m=\u001B[39m \u001B[38;5;28;01mNone\u001B[39;00m\n\u001B[0;32m    149\u001B[0m \u001B[38;5;28;01mtry\u001B[39;00m:\n\u001B[1;32m--> 150\u001B[0m   \u001B[38;5;28;01mreturn\u001B[39;00m fn(\u001B[38;5;241m*\u001B[39margs, \u001B[38;5;241m*\u001B[39m\u001B[38;5;241m*\u001B[39mkwargs)\n\u001B[0;32m    151\u001B[0m \u001B[38;5;28;01mexcept\u001B[39;00m \u001B[38;5;167;01mException\u001B[39;00m \u001B[38;5;28;01mas\u001B[39;00m e:\n\u001B[0;32m    152\u001B[0m   filtered_tb \u001B[38;5;241m=\u001B[39m _process_traceback_frames(e\u001B[38;5;241m.\u001B[39m__traceback__)\n",
      "File \u001B[1;32m~\\anaconda3\\envs\\MachineLearning\\lib\\site-packages\\tensorflow\\python\\eager\\def_function.py:915\u001B[0m, in \u001B[0;36mFunction.__call__\u001B[1;34m(self, *args, **kwds)\u001B[0m\n\u001B[0;32m    912\u001B[0m compiler \u001B[38;5;241m=\u001B[39m \u001B[38;5;124m\"\u001B[39m\u001B[38;5;124mxla\u001B[39m\u001B[38;5;124m\"\u001B[39m \u001B[38;5;28;01mif\u001B[39;00m \u001B[38;5;28mself\u001B[39m\u001B[38;5;241m.\u001B[39m_jit_compile \u001B[38;5;28;01melse\u001B[39;00m \u001B[38;5;124m\"\u001B[39m\u001B[38;5;124mnonXla\u001B[39m\u001B[38;5;124m\"\u001B[39m\n\u001B[0;32m    914\u001B[0m \u001B[38;5;28;01mwith\u001B[39;00m OptionalXlaContext(\u001B[38;5;28mself\u001B[39m\u001B[38;5;241m.\u001B[39m_jit_compile):\n\u001B[1;32m--> 915\u001B[0m   result \u001B[38;5;241m=\u001B[39m \u001B[38;5;28mself\u001B[39m\u001B[38;5;241m.\u001B[39m_call(\u001B[38;5;241m*\u001B[39margs, \u001B[38;5;241m*\u001B[39m\u001B[38;5;241m*\u001B[39mkwds)\n\u001B[0;32m    917\u001B[0m new_tracing_count \u001B[38;5;241m=\u001B[39m \u001B[38;5;28mself\u001B[39m\u001B[38;5;241m.\u001B[39mexperimental_get_tracing_count()\n\u001B[0;32m    918\u001B[0m without_tracing \u001B[38;5;241m=\u001B[39m (tracing_count \u001B[38;5;241m==\u001B[39m new_tracing_count)\n",
      "File \u001B[1;32m~\\anaconda3\\envs\\MachineLearning\\lib\\site-packages\\tensorflow\\python\\eager\\def_function.py:947\u001B[0m, in \u001B[0;36mFunction._call\u001B[1;34m(self, *args, **kwds)\u001B[0m\n\u001B[0;32m    944\u001B[0m   \u001B[38;5;28mself\u001B[39m\u001B[38;5;241m.\u001B[39m_lock\u001B[38;5;241m.\u001B[39mrelease()\n\u001B[0;32m    945\u001B[0m   \u001B[38;5;66;03m# In this case we have created variables on the first call, so we run the\u001B[39;00m\n\u001B[0;32m    946\u001B[0m   \u001B[38;5;66;03m# defunned version which is guaranteed to never create variables.\u001B[39;00m\n\u001B[1;32m--> 947\u001B[0m   \u001B[38;5;28;01mreturn\u001B[39;00m \u001B[38;5;28mself\u001B[39m\u001B[38;5;241m.\u001B[39m_stateless_fn(\u001B[38;5;241m*\u001B[39margs, \u001B[38;5;241m*\u001B[39m\u001B[38;5;241m*\u001B[39mkwds)  \u001B[38;5;66;03m# pylint: disable=not-callable\u001B[39;00m\n\u001B[0;32m    948\u001B[0m \u001B[38;5;28;01melif\u001B[39;00m \u001B[38;5;28mself\u001B[39m\u001B[38;5;241m.\u001B[39m_stateful_fn \u001B[38;5;129;01mis\u001B[39;00m \u001B[38;5;129;01mnot\u001B[39;00m \u001B[38;5;28;01mNone\u001B[39;00m:\n\u001B[0;32m    949\u001B[0m   \u001B[38;5;66;03m# Release the lock early so that multiple threads can perform the call\u001B[39;00m\n\u001B[0;32m    950\u001B[0m   \u001B[38;5;66;03m# in parallel.\u001B[39;00m\n\u001B[0;32m    951\u001B[0m   \u001B[38;5;28mself\u001B[39m\u001B[38;5;241m.\u001B[39m_lock\u001B[38;5;241m.\u001B[39mrelease()\n",
      "File \u001B[1;32m~\\anaconda3\\envs\\MachineLearning\\lib\\site-packages\\tensorflow\\python\\eager\\function.py:2496\u001B[0m, in \u001B[0;36mFunction.__call__\u001B[1;34m(self, *args, **kwargs)\u001B[0m\n\u001B[0;32m   2493\u001B[0m \u001B[38;5;28;01mwith\u001B[39;00m \u001B[38;5;28mself\u001B[39m\u001B[38;5;241m.\u001B[39m_lock:\n\u001B[0;32m   2494\u001B[0m   (graph_function,\n\u001B[0;32m   2495\u001B[0m    filtered_flat_args) \u001B[38;5;241m=\u001B[39m \u001B[38;5;28mself\u001B[39m\u001B[38;5;241m.\u001B[39m_maybe_define_function(args, kwargs)\n\u001B[1;32m-> 2496\u001B[0m \u001B[38;5;28;01mreturn\u001B[39;00m \u001B[43mgraph_function\u001B[49m\u001B[38;5;241;43m.\u001B[39;49m\u001B[43m_call_flat\u001B[49m\u001B[43m(\u001B[49m\n\u001B[0;32m   2497\u001B[0m \u001B[43m    \u001B[49m\u001B[43mfiltered_flat_args\u001B[49m\u001B[43m,\u001B[49m\u001B[43m \u001B[49m\u001B[43mcaptured_inputs\u001B[49m\u001B[38;5;241;43m=\u001B[39;49m\u001B[43mgraph_function\u001B[49m\u001B[38;5;241;43m.\u001B[39;49m\u001B[43mcaptured_inputs\u001B[49m\u001B[43m)\u001B[49m\n",
      "File \u001B[1;32m~\\anaconda3\\envs\\MachineLearning\\lib\\site-packages\\tensorflow\\python\\eager\\function.py:1862\u001B[0m, in \u001B[0;36mConcreteFunction._call_flat\u001B[1;34m(self, args, captured_inputs, cancellation_manager)\u001B[0m\n\u001B[0;32m   1858\u001B[0m possible_gradient_type \u001B[38;5;241m=\u001B[39m gradients_util\u001B[38;5;241m.\u001B[39mPossibleTapeGradientTypes(args)\n\u001B[0;32m   1859\u001B[0m \u001B[38;5;28;01mif\u001B[39;00m (possible_gradient_type \u001B[38;5;241m==\u001B[39m gradients_util\u001B[38;5;241m.\u001B[39mPOSSIBLE_GRADIENT_TYPES_NONE\n\u001B[0;32m   1860\u001B[0m     \u001B[38;5;129;01mand\u001B[39;00m executing_eagerly):\n\u001B[0;32m   1861\u001B[0m   \u001B[38;5;66;03m# No tape is watching; skip to running the function.\u001B[39;00m\n\u001B[1;32m-> 1862\u001B[0m   \u001B[38;5;28;01mreturn\u001B[39;00m \u001B[38;5;28mself\u001B[39m\u001B[38;5;241m.\u001B[39m_build_call_outputs(\u001B[38;5;28;43mself\u001B[39;49m\u001B[38;5;241;43m.\u001B[39;49m\u001B[43m_inference_function\u001B[49m\u001B[38;5;241;43m.\u001B[39;49m\u001B[43mcall\u001B[49m\u001B[43m(\u001B[49m\n\u001B[0;32m   1863\u001B[0m \u001B[43m      \u001B[49m\u001B[43mctx\u001B[49m\u001B[43m,\u001B[49m\u001B[43m \u001B[49m\u001B[43margs\u001B[49m\u001B[43m,\u001B[49m\u001B[43m \u001B[49m\u001B[43mcancellation_manager\u001B[49m\u001B[38;5;241;43m=\u001B[39;49m\u001B[43mcancellation_manager\u001B[49m\u001B[43m)\u001B[49m)\n\u001B[0;32m   1864\u001B[0m forward_backward \u001B[38;5;241m=\u001B[39m \u001B[38;5;28mself\u001B[39m\u001B[38;5;241m.\u001B[39m_select_forward_and_backward_functions(\n\u001B[0;32m   1865\u001B[0m     args,\n\u001B[0;32m   1866\u001B[0m     possible_gradient_type,\n\u001B[0;32m   1867\u001B[0m     executing_eagerly)\n\u001B[0;32m   1868\u001B[0m forward_function, args_with_tangents \u001B[38;5;241m=\u001B[39m forward_backward\u001B[38;5;241m.\u001B[39mforward()\n",
      "File \u001B[1;32m~\\anaconda3\\envs\\MachineLearning\\lib\\site-packages\\tensorflow\\python\\eager\\function.py:499\u001B[0m, in \u001B[0;36m_EagerDefinedFunction.call\u001B[1;34m(self, ctx, args, cancellation_manager)\u001B[0m\n\u001B[0;32m    497\u001B[0m \u001B[38;5;28;01mwith\u001B[39;00m _InterpolateFunctionError(\u001B[38;5;28mself\u001B[39m):\n\u001B[0;32m    498\u001B[0m   \u001B[38;5;28;01mif\u001B[39;00m cancellation_manager \u001B[38;5;129;01mis\u001B[39;00m \u001B[38;5;28;01mNone\u001B[39;00m:\n\u001B[1;32m--> 499\u001B[0m     outputs \u001B[38;5;241m=\u001B[39m \u001B[43mexecute\u001B[49m\u001B[38;5;241;43m.\u001B[39;49m\u001B[43mexecute\u001B[49m\u001B[43m(\u001B[49m\n\u001B[0;32m    500\u001B[0m \u001B[43m        \u001B[49m\u001B[38;5;28;43mstr\u001B[39;49m\u001B[43m(\u001B[49m\u001B[38;5;28;43mself\u001B[39;49m\u001B[38;5;241;43m.\u001B[39;49m\u001B[43msignature\u001B[49m\u001B[38;5;241;43m.\u001B[39;49m\u001B[43mname\u001B[49m\u001B[43m)\u001B[49m\u001B[43m,\u001B[49m\n\u001B[0;32m    501\u001B[0m \u001B[43m        \u001B[49m\u001B[43mnum_outputs\u001B[49m\u001B[38;5;241;43m=\u001B[39;49m\u001B[38;5;28;43mself\u001B[39;49m\u001B[38;5;241;43m.\u001B[39;49m\u001B[43m_num_outputs\u001B[49m\u001B[43m,\u001B[49m\n\u001B[0;32m    502\u001B[0m \u001B[43m        \u001B[49m\u001B[43minputs\u001B[49m\u001B[38;5;241;43m=\u001B[39;49m\u001B[43margs\u001B[49m\u001B[43m,\u001B[49m\n\u001B[0;32m    503\u001B[0m \u001B[43m        \u001B[49m\u001B[43mattrs\u001B[49m\u001B[38;5;241;43m=\u001B[39;49m\u001B[43mattrs\u001B[49m\u001B[43m,\u001B[49m\n\u001B[0;32m    504\u001B[0m \u001B[43m        \u001B[49m\u001B[43mctx\u001B[49m\u001B[38;5;241;43m=\u001B[39;49m\u001B[43mctx\u001B[49m\u001B[43m)\u001B[49m\n\u001B[0;32m    505\u001B[0m   \u001B[38;5;28;01melse\u001B[39;00m:\n\u001B[0;32m    506\u001B[0m     outputs \u001B[38;5;241m=\u001B[39m execute\u001B[38;5;241m.\u001B[39mexecute_with_cancellation(\n\u001B[0;32m    507\u001B[0m         \u001B[38;5;28mstr\u001B[39m(\u001B[38;5;28mself\u001B[39m\u001B[38;5;241m.\u001B[39msignature\u001B[38;5;241m.\u001B[39mname),\n\u001B[0;32m    508\u001B[0m         num_outputs\u001B[38;5;241m=\u001B[39m\u001B[38;5;28mself\u001B[39m\u001B[38;5;241m.\u001B[39m_num_outputs,\n\u001B[1;32m   (...)\u001B[0m\n\u001B[0;32m    511\u001B[0m         ctx\u001B[38;5;241m=\u001B[39mctx,\n\u001B[0;32m    512\u001B[0m         cancellation_manager\u001B[38;5;241m=\u001B[39mcancellation_manager)\n",
      "File \u001B[1;32m~\\anaconda3\\envs\\MachineLearning\\lib\\site-packages\\tensorflow\\python\\eager\\execute.py:54\u001B[0m, in \u001B[0;36mquick_execute\u001B[1;34m(op_name, num_outputs, inputs, attrs, ctx, name)\u001B[0m\n\u001B[0;32m     52\u001B[0m \u001B[38;5;28;01mtry\u001B[39;00m:\n\u001B[0;32m     53\u001B[0m   ctx\u001B[38;5;241m.\u001B[39mensure_initialized()\n\u001B[1;32m---> 54\u001B[0m   tensors \u001B[38;5;241m=\u001B[39m \u001B[43mpywrap_tfe\u001B[49m\u001B[38;5;241;43m.\u001B[39;49m\u001B[43mTFE_Py_Execute\u001B[49m\u001B[43m(\u001B[49m\u001B[43mctx\u001B[49m\u001B[38;5;241;43m.\u001B[39;49m\u001B[43m_handle\u001B[49m\u001B[43m,\u001B[49m\u001B[43m \u001B[49m\u001B[43mdevice_name\u001B[49m\u001B[43m,\u001B[49m\u001B[43m \u001B[49m\u001B[43mop_name\u001B[49m\u001B[43m,\u001B[49m\n\u001B[0;32m     55\u001B[0m \u001B[43m                                      \u001B[49m\u001B[43minputs\u001B[49m\u001B[43m,\u001B[49m\u001B[43m \u001B[49m\u001B[43mattrs\u001B[49m\u001B[43m,\u001B[49m\u001B[43m \u001B[49m\u001B[43mnum_outputs\u001B[49m\u001B[43m)\u001B[49m\n\u001B[0;32m     56\u001B[0m \u001B[38;5;28;01mexcept\u001B[39;00m core\u001B[38;5;241m.\u001B[39m_NotOkStatusException \u001B[38;5;28;01mas\u001B[39;00m e:\n\u001B[0;32m     57\u001B[0m   \u001B[38;5;28;01mif\u001B[39;00m name \u001B[38;5;129;01mis\u001B[39;00m \u001B[38;5;129;01mnot\u001B[39;00m \u001B[38;5;28;01mNone\u001B[39;00m:\n",
      "\u001B[1;31mKeyboardInterrupt\u001B[0m: "
     ]
    }
   ],
   "source": [
    "days = [1,2,3,4,5,6,7]\n",
    "features = ['청양고추', '시금치', '토마토', '파프리카', '깻잎', '미나리', '양파', '풋고추']\n",
    "\n",
    "day1=[]\n",
    "day2=[]\n",
    "day3=[]\n",
    "day4=[]\n",
    "day5=[]\n",
    "day6=[]\n",
    "day7=[]\n",
    "\n",
    "for day in days:\n",
    "  print(day)\n",
    "  for feature in features:\n",
    "    my_nong1 = Nong1(df2, vegetable_today)\n",
    "    my_nong1.set_feature(feature)\n",
    "    my_nong1.set_target(day)\n",
    "    print(feature)\n",
    "    my_nong1.set_model()\n",
    "    if day == 1:\n",
    "      day1.append(my_nong1.get_price())\n",
    "    if day == 2:\n",
    "      day2.append(my_nong1.get_price())\n",
    "    if day == 3:\n",
    "      day3.append(my_nong1.get_price())\n",
    "    if day == 4:\n",
    "      day4.append(my_nong1.get_price())\n",
    "    if day == 5:\n",
    "      day5.append(my_nong1.get_price())\n",
    "    if day == 6:\n",
    "      day6.append(my_nong1.get_price())\n",
    "    if day == 7:\n",
    "      day7.append(my_nong1.get_price())"
   ]
  },
  {
   "cell_type": "code",
   "execution_count": 214,
   "id": "dca0af88",
   "metadata": {},
   "outputs": [
    {
     "data": {
      "text/plain": "([4926.3555,\n  2644.0574,\n  2128.835,\n  5032.6763,\n  7036.887,\n  3138.13,\n  1010.06616,\n  4731.6045],\n [5250.878,\n  2574.186,\n  2195.8887,\n  5154.391,\n  7239.4243,\n  3274.9475,\n  1027.6329,\n  4976.937],\n [5425.44,\n  2529.1123,\n  2274.462,\n  5189.2275,\n  7345.473,\n  3328.8271,\n  1026.2704,\n  5165.7744],\n [5341.48,\n  2516.0156,\n  2297.6765,\n  5290.6025,\n  7510.421,\n  3376.2532,\n  1034.9738,\n  5282.3623],\n [5440.4814,\n  2509.268,\n  2301.5515,\n  5319.11,\n  7633.9487,\n  3379.9626,\n  1049.2926,\n  5304.7446],\n [5436.737,\n  2536.3132,\n  2329.5776,\n  5399.0415,\n  7653.7764,\n  3351.7886,\n  1034.4648,\n  5287.4946],\n [5720.405,\n  2483.521,\n  2341.559,\n  5382.0063,\n  7603.546,\n  3384.8367,\n  1045.0146,\n  5369.2446])"
     },
     "execution_count": 214,
     "metadata": {},
     "output_type": "execute_result"
    }
   ],
   "source": [
    "day1, day2, day3, day4, day5, day6, day7"
   ]
  },
  {
   "cell_type": "code",
   "execution_count": 215,
   "id": "42d9c389",
   "metadata": {},
   "outputs": [
    {
     "name": "stdout",
     "output_type": "stream",
     "text": [
      "{'청양고추': [4926.3555, 5250.878, 5425.44, 5341.48, 5440.4814, 5436.737, 5720.405], '시금치': [2644.0574, 2574.186, 2529.1123, 2516.0156, 2509.268, 2536.3132, 2483.521], '토마토': [2128.835, 2195.8887, 2274.462, 2297.6765, 2301.5515, 2329.5776, 2341.559], '파프리카': [5032.6763, 5154.391, 5189.2275, 5290.6025, 5319.11, 5399.0415, 5382.0063], '깻잎': [7036.887, 7239.4243, 7345.473, 7510.421, 7633.9487, 7653.7764, 7603.546], '미나리': [3138.13, 3274.9475, 3328.8271, 3376.2532, 3379.9626, 3351.7886, 3384.8367], '양파': [1010.06616, 1027.6329, 1026.2704, 1034.9738, 1049.2926, 1034.4648, 1045.0146], '풋고추': [4731.6045, 4976.937, 5165.7744, 5282.3623, 5304.7446, 5287.4946, 5369.2446]}\n",
      "[4926.3555, 5250.878, 5425.44, 5341.48, 5440.4814, 5436.737, 5720.405]\n",
      "[2644.0574, 2574.186, 2529.1123, 2516.0156, 2509.268, 2536.3132, 2483.521]\n",
      "[2128.835, 2195.8887, 2274.462, 2297.6765, 2301.5515, 2329.5776, 2341.559]\n",
      "[5032.6763, 5154.391, 5189.2275, 5290.6025, 5319.11, 5399.0415, 5382.0063]\n",
      "[7036.887, 7239.4243, 7345.473, 7510.421, 7633.9487, 7653.7764, 7603.546]\n",
      "[3138.13, 3274.9475, 3328.8271, 3376.2532, 3379.9626, 3351.7886, 3384.8367]\n",
      "[1010.06616, 1027.6329, 1026.2704, 1034.9738, 1049.2926, 1034.4648, 1045.0146]\n",
      "[4731.6045, 4976.937, 5165.7744, 5282.3623, 5304.7446, 5287.4946, 5369.2446]\n"
     ]
    }
   ],
   "source": [
    "c = [day1[0], day2[0], day3[0], day4[0], day5[0], day6[0], day7[0]]\n",
    "s = [day1[1], day2[1], day3[1], day4[1], day5[1], day6[1], day7[1]]\n",
    "t = [day1[2], day2[2], day3[2], day4[2], day5[2], day6[2], day7[2]]\n",
    "p = [day1[3], day2[3], day3[3], day4[3], day5[3], day6[3], day7[3]]\n",
    "g = [day1[4], day2[4], day3[4], day4[4], day5[4], day6[4], day7[4]]\n",
    "m = [day1[5], day2[5], day3[5], day4[5], day5[5], day6[5], day7[5]]\n",
    "y = [day1[6], day2[6], day3[6], day4[6], day5[6], day6[6], day7[6]]\n",
    "u = [day1[7], day2[7], day3[7], day4[7], day5[7], day6[7], day7[7]]\n",
    "models = dict(zip(['청양고추', '시금치', '토마토', '파프리카', '깻잎', '미나리', '양파', '풋고추'], [c, s, t, p, g, m, y, u]))\n",
    "def method(model):\n",
    "    if model in models.keys():\n",
    "        return models[model]\n",
    "print(models)\n",
    "print(method('청양고추'))\n",
    "print(method('시금치'))\n",
    "print(method('토마토'))\n",
    "print(method('파프리카'))\n",
    "print(method('깻잎'))\n",
    "print(method('미나리'))\n",
    "print(method('양파'))\n",
    "print(method('풋고추'))"
   ]
  }
 ],
 "metadata": {
  "celltoolbar": "Raw Cell Format",
  "kernelspec": {
   "display_name": "Python 3 (ipykernel)",
   "language": "python",
   "name": "python3"
  },
  "language_info": {
   "codemirror_mode": {
    "name": "ipython",
    "version": 3
   },
   "file_extension": ".py",
   "mimetype": "text/x-python",
   "name": "python",
   "nbconvert_exporter": "python",
   "pygments_lexer": "ipython3",
   "version": "3.9.13"
  }
 },
 "nbformat": 4,
 "nbformat_minor": 5
}
